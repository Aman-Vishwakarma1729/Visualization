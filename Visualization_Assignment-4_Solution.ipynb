{
 "cells": [
  {
   "cell_type": "markdown",
   "id": "2875f884-017e-43c7-9a59-5bd7e1d6254d",
   "metadata": {},
   "source": [
    "#### Answer_1"
   ]
  },
  {
   "cell_type": "markdown",
   "id": "b9501d0e-7947-4173-8226-79f1193c63b6",
   "metadata": {},
   "source": [
    "Bokeh is a Python library that allows you to create interactive visualizations for the web. Here is an example of how you can create a simple Bokeh plot using Python code:"
   ]
  },
  {
   "cell_type": "markdown",
   "id": "adbd55d0-982b-4cf4-b8b2-c924646f804a",
   "metadata": {},
   "source": [
    "First, you will need to install Bokeh. You can do this by running the following command in your terminal or command prompt:\n",
    "* pip install bokeh"
   ]
  },
  {
   "cell_type": "markdown",
   "id": "83609c3d-8690-415b-b7b1-2b030d45bf3a",
   "metadata": {},
   "source": [
    "Import the necessary modules:\n",
    "* from bokeh.plotting import figure, output_file, show"
   ]
  },
  {
   "cell_type": "markdown",
   "id": "bab5e394-b5d4-4faf-a28f-0ab25f145c7b",
   "metadata": {},
   "source": [
    "Create some data for the plot:\n",
    "* x = [1, 2, 3, 4, 5]\n",
    "* y = [6, 7, 2, 4, 5]"
   ]
  },
  {
   "cell_type": "markdown",
   "id": "0e01c811-5ca3-4fd6-9392-073c13b90a5b",
   "metadata": {},
   "source": [
    "Define the output file where the plot will be saved:\n",
    "    \n",
    "* output_file(\"plot.html\")"
   ]
  },
  {
   "cell_type": "markdown",
   "id": "ff5083c4-4ace-4363-a91d-56c74706ce78",
   "metadata": {},
   "source": [
    "Create a Bokeh figure object and add a line to it:\n",
    "* p = figure(title=\"Simple line plot\", x_axis_label='x', y_axis_label='y')\n",
    "* p.line(x, y, legend_label=\"Line 1\", line_width=2)\n"
   ]
  },
  {
   "cell_type": "markdown",
   "id": "e5149093-98a4-4335-a833-a94e2b8dd363",
   "metadata": {},
   "source": [
    "Show the plot:\n",
    "* show(p)\n"
   ]
  },
  {
   "cell_type": "markdown",
   "id": "8129c26c-a781-497c-b587-d7670a122b3b",
   "metadata": {},
   "source": [
    "#### Answer_2"
   ]
  },
  {
   "cell_type": "markdown",
   "id": "5d43dfb8-53ad-40c3-9566-2bf58070c170",
   "metadata": {},
   "source": [
    "In Bokeh, glyphs are visual markers such as circles, squares, lines, and bars that represent data points in a plot. They are created using the Glyph API in Bokeh and can be added to a plot using the add_glyph() method of the Plot class."
   ]
  },
  {
   "cell_type": "code",
   "execution_count": null,
   "id": "1206e729-6ef6-4f6b-aa64-617bb547ea2b",
   "metadata": {},
   "outputs": [],
   "source": [
    "from bokeh.plotting import figure, output_file, show\n",
    "from bokeh.models import ColumnDataSource\n",
    "\n",
    "# create some data\n",
    "x = [1, 2, 3, 4, 5]\n",
    "y = [6, 7, 2, 4, 5]\n",
    "colors = ['red', 'green', 'blue', 'orange', 'purple']\n",
    "\n",
    "# create a ColumnDataSource object\n",
    "source = ColumnDataSource(data=dict(x=x, y=y, colors=colors))\n",
    "\n",
    "# create a Bokeh figure object\n",
    "p = figure(title=\"Glyphs example\", x_axis_label='x', y_axis_label='y')\n",
    "\n",
    "# add a circle glyph to the plot\n",
    "p.add_glyph(source, glyph_type='circle', size=20, fill_color='colors', line_color='black')\n",
    "\n",
    "# show the plot\n",
    "show(p)\n"
   ]
  },
  {
   "cell_type": "markdown",
   "id": "365b853d-1372-4afe-a31f-a637cd1f05ad",
   "metadata": {},
   "source": [
    "#### Answer_3"
   ]
  },
  {
   "cell_type": "markdown",
   "id": "9e512dd5-40c1-4eaa-a956-7a6db492330c",
   "metadata": {},
   "source": [
    "Bokeh is a powerful Python library for creating interactive visualizations in web browsers. To customize the appearance of a Bokeh plot, including the axes, title, and legend, you can use various tools provided by the library. Here are some of the most common methods to customize the appearance of a Bokeh plot:"
   ]
  },
  {
   "cell_type": "markdown",
   "id": "f98aaa4c-50b9-4a47-b4bd-5e4fce681d72",
   "metadata": {},
   "source": [
    "* Set the plot title: To set the title of a Bokeh plot, you can use the title attribute of the Plot object. For example:"
   ]
  },
  {
   "cell_type": "code",
   "execution_count": null,
   "id": "1bc09984-67db-4ea4-a4bc-b3d6deac4146",
   "metadata": {},
   "outputs": [],
   "source": [
    "from bokeh.plotting import figure, output_file, show\n",
    "\n",
    "# create a new plot with a title\n",
    "p = figure(title=\"My Bokeh Plot\")\n",
    "\n",
    "# ... add glyphs to the plot ...\n",
    "\n",
    "# show the plot\n",
    "show(p)\n"
   ]
  },
  {
   "cell_type": "markdown",
   "id": "08c4dd56-454c-4196-a6fa-62647be2b12a",
   "metadata": {},
   "source": [
    "* Customize the axes: To customize the appearance of the axes in a Bokeh plot, you can use the axis attribute of the Plot object. For example:"
   ]
  },
  {
   "cell_type": "code",
   "execution_count": null,
   "id": "f0dc1d61-a8d8-40b7-83bb-06de6a4cbed4",
   "metadata": {},
   "outputs": [],
   "source": [
    "from bokeh.plotting import figure, output_file, show\n",
    "\n",
    "# create a new plot with customized axes\n",
    "p = figure(x_axis_label='X-axis Label', y_axis_label='Y-axis Label')\n",
    "\n",
    "# ... add glyphs to the plot ...\n",
    "\n",
    "# show the plot\n",
    "show(p)\n"
   ]
  },
  {
   "cell_type": "markdown",
   "id": "1f330163-9050-4625-9a9f-68b6ab2fea20",
   "metadata": {},
   "source": [
    "* Add a legend: To add a legend to a Bokeh plot, you can use the legend attribute of the Plot object. For example:"
   ]
  },
  {
   "cell_type": "code",
   "execution_count": null,
   "id": "fb85c08b-3a17-49dc-9466-18533267f8ee",
   "metadata": {},
   "outputs": [],
   "source": [
    "from bokeh.plotting import figure, output_file, show\n",
    "\n",
    "# create a new plot with a legend\n",
    "p = figure()\n",
    "\n",
    "# ... add glyphs to the plot ...\n",
    "\n",
    "# add a legend to the plot\n",
    "p.legend.label_text_font_size = \"14pt\"\n",
    "p.legend.location = \"top_right\"\n",
    "p.legend.click_policy=\"hide\"\n",
    "\n",
    "# show the plot\n",
    "show(p)"
   ]
  },
  {
   "cell_type": "markdown",
   "id": "5c5ea361-3bc7-46b2-966d-53d428159907",
   "metadata": {},
   "source": [
    "#### Answer_4"
   ]
  },
  {
   "cell_type": "markdown",
   "id": "6d65bd69-4b4f-45f1-9acc-0635d6c89894",
   "metadata": {},
   "source": [
    "Bokeh is a Python library that allows you to create interactive visualizations for the web. Bokeh provides a server component, called Bokeh server, that allows you to create and deploy web applications that contain interactive visualizations.\n",
    "\n",
    "Bokeh server works by allowing the user to define a Python script that creates the Bokeh plot, and then runs the script as a server. The user can then connect to the server using a web browser and interact with the visualization. The server can update the visualization in real-time based on user input, allowing for a highly interactive and dynamic experience.\n",
    "\n",
    "To create a Bokeh server application, you would typically define a Python function that creates the Bokeh plot. The function would then be decorated with the @bokeh_app.route decorator, which tells Bokeh to create a web route for the function. The route can be accessed through a web browser, allowing users to interact with the visualization.\n",
    "\n",
    "In the function, you can define how the plot reacts to user input by using Bokeh's interactive tools such as sliders, buttons, or dropdowns. You can then update the plot data and properties based on the user input. When the user interacts with the plot, the server will automatically update the plot on the web page.\n",
    "\n",
    "Once the application is defined, you can run it using the Bokeh server command. This will start a web server that serves the application, and the user can access it through a web browser."
   ]
  },
  {
   "cell_type": "markdown",
   "id": "a06003ea-a8d2-4b3a-bfd6-dc500c3f483b",
   "metadata": {},
   "source": [
    "#### Answer_5"
   ]
  },
  {
   "cell_type": "markdown",
   "id": "b5f7a2f5-7d21-40ba-b776-e1db52373143",
   "metadata": {},
   "source": [
    "Embedding a Bokeh plot in a web page or dashboard can be done using Flask or Django by following these general steps:\n",
    "\n",
    "* Create a Bokeh plot using the Bokeh library in Python.\n",
    "* Save the plot to an HTML file using the bokeh.embed module's file_html() method.\n",
    "* Create a Flask or Django view that renders the HTML file containing the Bokeh plot.\n",
    "* Embed the plot into the HTML template using an iframe or a JavaScript script tag."
   ]
  },
  {
   "cell_type": "code",
   "execution_count": null,
   "id": "d3d452da-e133-4985-8945-62a177812e0c",
   "metadata": {},
   "outputs": [],
   "source": []
  }
 ],
 "metadata": {
  "kernelspec": {
   "display_name": "Python 3 (ipykernel)",
   "language": "python",
   "name": "python3"
  },
  "language_info": {
   "codemirror_mode": {
    "name": "ipython",
    "version": 3
   },
   "file_extension": ".py",
   "mimetype": "text/x-python",
   "name": "python",
   "nbconvert_exporter": "python",
   "pygments_lexer": "ipython3",
   "version": "3.10.8"
  }
 },
 "nbformat": 4,
 "nbformat_minor": 5
}
